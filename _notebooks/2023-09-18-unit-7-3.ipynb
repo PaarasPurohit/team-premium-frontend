{
 "cells": [
  {
   "cell_type": "markdown",
   "metadata": {},
   "source": [
    "# 7.3: Traversing Arraylists\n",
    "\n",
    "- toc: true\n",
    "- comments: false\n",
    "- layout: post\n",
    "- title: Unit 7.3: Traversing Arraylists\n",
    "- description: Section 3 of the lesson.\n",
    "- type: tangibles\n",
    "- courses: { csa: {week: 5} }\n",
    "- permalink: /unit-7-point-3"
   ]
  },
  {
   "cell_type": "markdown",
   "metadata": {},
   "source": [
    "### Learning Objectives:\n",
    "- With an Arraylist you can traverse objects using a for or while loop.\n",
    "\n",
    "- Traversing objects is similar to iterating through objects.\n",
    "\n",
    "### Essential Knowledge:\n",
    "- Iteration statements can be used to accsess all the elements in an Arraylist. This is called traversing the Arraylist.\n",
    "\n",
    "- Deleting elements during a traversal of an Arraylist requires special techniques to avoid skiping elements. This is called traversing the Arraylist.\n",
    "\n",
    "- The indicies of an Arraylist start at 0; If you try to use any value lower than 0, you will get an *ArrayIndexOutOfBoundsException* error"
   ]
  },
  {
   "cell_type": "code",
   "execution_count": 8,
   "metadata": {
    "vscode": {
     "languageId": "java"
    }
   },
   "outputs": [],
   "source": [
    "import java.util.ArrayList;\n",
    "import java.util.List;\n",
    "\n",
    "public class Main {\n",
    "    public static void main(String[] args) {\n",
    "        ArrayList<String> roster = new ArrayList<>();\n",
    "        roster.add(\"Hello\");\n",
    "        roster.add(\"World\");\n",
    "        roster.add(\"Java\");\n",
    "        \n",
    "        int sum = 0;\n",
    "        for (int i = 0; i < roster.size(); i++) {\n",
    "            String element = roster.get(i);\n",
    "            if (element != null) {\n",
    "                sum += element.length();\n",
    "            }\n",
    "        }\n",
    "        System.out.println(sum);\n",
    "    }\n",
    "}\n",
    "\n"
   ]
  },
  {
   "cell_type": "markdown",
   "metadata": {},
   "source": [
    "#### Breakdown:\n",
    "- We are first declaring a new arraylist and adding a few elements.\n",
    "\n",
    "- Next, we set the \"sum\" variable as 0.\n",
    "\n",
    "- We set a for loop to traverse through the arraylist, iterating through all the indices in the arraylist and adding up the lengths of all the values.\n",
    "\n",
    "- Lastly, we print it out.\n",
    "\n",
    "#### Loop Conditions:\n",
    "\n",
    "- There are a few diffrent loop conditions you can use to traverse an Arraylist:\n",
    "\n",
    ">First, there are three major parts of a for loop:\n",
    ">Initialisation, in which you declare the index, can be modified to change where you want to traverse from.\n",
    "\n",
    ">Boolean condition, in which you declare the stop condition, can be modified in order to change the index you want to stop traversing in.\n",
    "\n",
    ">Update, in which you declare how many indexes to go through, can be modified to skip certain indicies and traverse in a certain direction."
   ]
  },
  {
   "cell_type": "markdown",
   "metadata": {},
   "source": [
    "#### Practice:\n",
    "Suppose we have an arraylist named grades, and we want to remove the entries that are lower than 70.\n",
    "replace the question marks with code to solve the problem:"
   ]
  },
  {
   "cell_type": "code",
   "execution_count": null,
   "metadata": {
    "vscode": {
     "languageId": "java"
    }
   },
   "outputs": [],
   "source": [
    "import java.util.ArrayList;\n",
    "import java.util.List;\n",
    "\n",
    "public class Main {\n",
    "    public static void main(String[] args) {\n",
    "        ArrayList<int> grades = new ArrayList<>();\n",
    "        grades.add(68.9);\n",
    "        grades.add(71);\n",
    "        grades.add(100);\n",
    "        grades.add(80);\n",
    "        for(int i = 0; i<???; i???){\n",
    "            if(grades.get(i)<70){\n",
    "                ???\n",
    "            }\n",
    "        }\n",
    "        System.out.println(grades);\n",
    "    }\n",
    "}"
   ]
  },
  {
   "cell_type": "markdown",
   "metadata": {},
   "source": [
    "#### Using Enhanced For-Loop With Traversing:\n",
    "\n",
    "- Using Enhanced for loop is easier to read and write and is also more concise and avoids errors.\n",
    "\n",
    "- Indexes are not explicitly used and copies of the current element are made at each iteration."
   ]
  },
  {
   "cell_type": "code",
   "execution_count": null,
   "metadata": {
    "vscode": {
     "languageId": "java"
    }
   },
   "outputs": [],
   "source": [
    "import java.util.ArrayList;\n",
    "import java.util.List;\n",
    "\n",
    "public class Main {\n",
    "    public static void main(String[] args) {\n",
    "        List<String> roster = new ArrayList<>();\n",
    "        roster.add(\"Hello\");\n",
    "        roster.add(\"World\");\n",
    "        roster.add(\"Java\");\n",
    "\n",
    "        // Using an enhanced for loop to iterate through the ArrayList\n",
    "        for (String element : roster) {\n",
    "            System.out.println(element);\n",
    "        }\n",
    "    }\n",
    "}"
   ]
  },
  {
   "cell_type": "markdown",
   "metadata": {},
   "source": [
    "#### Common mistakes:\n",
    "- Using the Wrong Data Type: Ensure that you declare your ArrayList with the correct data type. Using the wrong data type can lead to type mismatches and errors.\n",
    "\n",
    "- Incorrect Indexing: Be cautious when using a standard for loop. Off-by-one errors or accessing elements that don't exist can lead to runtime exceptions.\n",
    "\n",
    "- Modifying the List During Iteration: Modifying an ArrayList (adding or removing elements) while iterating over it can lead to a ConcurrentModificationException. To avoid this, use an Iterator or create a copy of the list if modifications are needed.\n",
    "\n",
    "- Not Checking for Null Elements: When using enhanced for loops or iterators, check for null elements if there's a possibility that your list contains them to avoid NullPointerExceptions.\n",
    "\n",
    "- Inefficient Searching: If you need to find a specific element, avoid using a linear search within a loop. Use appropriate methods like contains() or indexOf() to find elements efficiently."
   ]
  },
  {
   "cell_type": "markdown",
   "metadata": {},
   "source": [
    "## Hax:\n",
    "- Create a scenario which requires the use of arraylist traversal and create code to solve it. \n",
    "- Extra points to creative scenarios\n",
    "- 90% credit to any working code and scenario\n",
    "- 80% credit to incomplete code if you provide explanation of it\n",
    "- -10% deduction for late submition"
   ]
  }
 ],
 "metadata": {
  "kernelspec": {
   "display_name": "Java",
   "language": "java",
   "name": "java"
  },
  "language_info": {
   "codemirror_mode": "java",
   "file_extension": ".jshell",
   "mimetype": "text/x-java-source",
   "name": "Java",
   "pygments_lexer": "java",
   "version": "11.0.20+8-post-Ubuntu-1ubuntu120.04"
  }
 },
 "nbformat": 4,
 "nbformat_minor": 2
}
