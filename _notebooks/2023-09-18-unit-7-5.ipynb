{
 "cells": [
  {
   "cell_type": "markdown",
   "metadata": {},
   "source": [
    "---\n",
    "# 7.5-7.6: Searching & Sorting\n",
    "\n",
    "- toc: true\n",
    "- comments: false\n",
    "- layout: post\n",
    "- title: Unit 7.5-7.6: Searching & Sorting\n",
    "- description: Section 5 & 6 of the lesson.\n",
    "- type: tangibles\n",
    "- courses: { csa: {week: 5} }\n",
    "- permalink: /unit-7-point-5-6\n",
    "---"
   ]
  },
  {
   "cell_type": "markdown",
   "metadata": {},
   "source": [
    "# 7.5 Searching\n",
    "\n",
    "### Learning Objectives\n",
    "- Apply sequential/linear search algorithms to search for specific information in array or ``arraylist`` objects\n",
    "\n",
    "### Essential Knowledge:\n",
    "- Sequential/linear search alogorithms check each element in order untill the desired value is found or all elementsin the array or ``arraylist`` have been checked\n",
    "\n",
    "### Search Process\n",
    "- Linear searching fits a standard for loop perfectly! We need to specify each element, one at a time, and do not need to track the index after execution\n",
    "\n",
    "- Inside the for loop, we retrieve the value from the structure at the specified index and compare it to the searched value\n",
    "\n",
    "- If it matches we return the index, otherwise we keep looking!"
   ]
  },
  {
   "cell_type": "markdown",
   "metadata": {},
   "source": [
    "## Find the specified value"
   ]
  },
  {
   "cell_type": "markdown",
   "metadata": {},
   "source": [
    "![](\"https://media.discordapp.net/attachments/1156623830631059597/1166266558839009332/Screenshot_2023-10-23_at_11.46.53_PM.png?ex=6549dd5f&is=6537685f&hm=981517de6ce0f2f487a73ed75d61c58a82081989fe4b6097bddf34c49dbdf11f&=&width=2565&height=708\") \n",
    "\n"
   ]
  },
  {
   "cell_type": "markdown",
   "metadata": {},
   "source": [
    "![](\"https://media.discordapp.net/attachments/1156623830631059597/1166266604804374548/Screenshot_2023-10-23_at_11.47.03_PM.png?ex=6549dd6a&is=6537686a&hm=430c6f38774873d17851f9e4c4ddfc6204f8346f4fd37a57b956a3e900e9d9e3&=&width=2565&height=737\")"
   ]
  },
  {
   "cell_type": "markdown",
   "metadata": {},
   "source": [
    "#### The two if check's on the right are wrong because they are using the square bracket subscript notation for an array, and the one on the bottom right is wrong because we are not going to have a guarentee getting inside those bounds. The correct answer is the top right one.\n",
    "\n"
   ]
  },
  {
   "cell_type": "markdown",
   "metadata": {},
   "source": [
    "### Searching Linear Structures\n",
    "\n",
    "#### Finding information with a computer is something we need to know how to do. Linear search algorithms are BEST used when we do not have any idea about the order of the data and so we need to look at each element to determine if what we are looking for is in fact inside the array or ``ArrayList``.\n",
    "\n",
    "#### When searching, we do need to remember that different data types require comparisons!\n",
    "- When looking at ``int`` values, the == operator is the tool to use!\n",
    "- When searching for a ``double`` value, we need to make sure the value is close enough by doing some math!\n",
    "- ``Object`` instances should always use the ``.equals(otheThing)`` method to check for a match!"
   ]
  },
  {
   "cell_type": "markdown",
   "metadata": {},
   "source": [
    "## Searching an ``ArrayList`` of Double"
   ]
  },
  {
   "cell_type": "code",
   "execution_count": 4,
   "metadata": {
    "vscode": {
     "languageId": "java"
    }
   },
   "outputs": [],
   "source": [
    "public int where(double magicNumber, ArrayList<Double> realNumbers, double delta)\n",
    "{\n",
    "    for (int index = 0; index < realNumbers.size(); index++)\n",
    "    {\n",
    "        if (Math.abs(magicNumber - realNumbers.get(index)) < delta)\n",
    "        {\n",
    "            return index;\n",
    "        }\n",
    "    }\n",
    "    return -1;\n",
    "}"
   ]
  },
  {
   "cell_type": "markdown",
   "metadata": {},
   "source": [
    "### Explanation"
   ]
  },
  {
   "cell_type": "markdown",
   "metadata": {},
   "source": [
    "## Searching an ``ArrayList`` of book for a ``String``"
   ]
  },
  {
   "cell_type": "code",
   "execution_count": null,
   "metadata": {
    "vscode": {
     "languageId": "java"
    }
   },
   "outputs": [],
   "source": [
    "public int findTheWord(String searchedPhrase, ArrayList<Book> myBooks)\n",
    "{\n",
    "    for (int index = 0; index < myBooks.size(); index++)\n",
    "    {\n",
    "        Book currentBook = myBooks.get(index);\n",
    "        String currentPhrase = currentBook.getDescription();\n",
    "        if(currentPhrase.equals(searchedPhrase))\n",
    "        {\n",
    "            return index;\n",
    "        }\n",
    "    }\n",
    "    return -1;\n",
    "}"
   ]
  },
  {
   "cell_type": "markdown",
   "metadata": {},
   "source": [
    "### Explanation"
   ]
  },
  {
   "cell_type": "markdown",
   "metadata": {},
   "source": [
    "## Questions\n",
    "\n",
    "#### Should we use == when looking for an Object?\n",
    "> No, that only will return true if the variable and the element stored at that index point to the same memory, are aliases of each other\n",
    "\n",
    "#### Why did we subtract the double values?\n",
    "> To make sure that the lack of preciosin that is inherit in the data type is handled within our code"
   ]
  },
  {
   "cell_type": "markdown",
   "metadata": {},
   "source": [
    "## Why does order sometimes matter?\n",
    "\n",
    "#### When searching for a value to remove from a list, if we search forward we have to make sure to adjust the loop control variable, or we might skip what we are looking for when removing!"
   ]
  },
  {
   "cell_type": "markdown",
   "metadata": {},
   "source": [
    "# 7.6 Sorting\n",
    "\n",
    "### Learning Objectives\n",
    "- Apply selection sort and insertion sort algorithms to sort the elements of array or ``ArrayList`` objects.\n",
    "\n",
    "### Essential Knowledge:\n",
    "- Selection sort and insertion sort are iterative sorting algorithms that can be used to sort elements in an array or ``ArrayList``.\n",
    "\n"
   ]
  },
  {
   "cell_type": "markdown",
   "metadata": {},
   "source": [
    "## Selection Sort\n",
    "> This is one of the easiest sorts to demonstrate. The selection sort identifies either the maximum or minimum of the compared values and iterates over the structure checking if the item stored at the index matches that condition, if so, it will swap the value stored at that index and continue. This implementation uses a helper method to perform the swap operation since variables can hold only one value at a time!\n",
    "\n",
    "Example:"
   ]
  },
  {
   "cell_type": "code",
   "execution_count": null,
   "metadata": {
    "vscode": {
     "languageId": "java"
    }
   },
   "outputs": [],
   "source": [
    "for (int outerLoop = 0; outerLoop < myDucks.length; outerLoop ++)\n",
    "{\n",
    "    int minIndex = outerLoop;\n",
    "    for (int inner = outerLoop +1; inner < myDucks.length; inner++)\n",
    "    {\n",
    "        if (myDucks[inner].compareT(myDucks[minIndex]) < 0)\n",
    "        {\n",
    "            minIndex = inner;\n",
    "        }\n",
    "    }\n",
    "    if (minIndex != outerLoop)\n",
    "    {\n",
    "        swapItems(minIndex, outerloop, myDucks);\n",
    "    }\n",
    "}\n",
    "\n",
    "// The outer loopp goes up by 1 each time,"
   ]
  },
  {
   "cell_type": "markdown",
   "metadata": {},
   "source": [
    "## Swap Algorithm"
   ]
  },
  {
   "cell_type": "code",
   "execution_count": null,
   "metadata": {
    "vscode": {
     "languageId": "java"
    }
   },
   "outputs": [],
   "source": [
    "private void swapItems(int firstIndex, int secondIndex, Object[] arrayOfStuff)\n",
    "{\n",
    "    Object thirdHand = arrayOfStuff[firstIndex];\n",
    "    arrayOfStuff[firstIndex] = arrayOfStuff[secondIndex];\n",
    "    arrayOfStuff[SecondIndex] = thirdHand;\n",
    "}\n",
    "//"
   ]
  },
  {
   "cell_type": "markdown",
   "metadata": {},
   "source": [
    "## Insertion Sort Algorithm\n",
    "> The insertion sort is characterized by building a sorted structure as it proceeds. It inserts each value it finds at the appropriate location in the data structure. This is often accomplished by using a while loop as the inner loop."
   ]
  },
  {
   "cell_type": "code",
   "execution_count": null,
   "metadata": {
    "vscode": {
     "languageId": "java"
    }
   },
   "outputs": [],
   "source": [
    "for (int outer = 1; outer < randomList.size(); outer++)\n",
    "{\n",
    "    DebugDuck tested = randomList.get(outer);\n",
    "    int inner = outer -1;\n",
    "\n",
    "    while ( innter >= 0 && tested.compareTo(randomList.get(inner)) < 0)\n",
    "    {\n",
    "        ramdomList.set(inner +1, randomList.get(inner));\n",
    "        inner--;\n",
    "    }\n",
    "    randomList.set(inner +1, tested)\n",
    "}\n",
    "//"
   ]
  },
  {
   "cell_type": "markdown",
   "metadata": {},
   "source": [
    "## Counting Steps\n",
    "\n",
    "#### When looking at algorithms one of th emain ways to compare them is their efficiency AKA how fast do they execute.\n",
    "\n",
    "#### How often does each statement (line of code) get executed? In a simple block, just once; however when the code is placed inside a nested loop bloc, the execution count is multiplied.\n"
   ]
  }
 ],
 "metadata": {
  "kernelspec": {
   "display_name": "Java",
   "language": "java",
   "name": "java"
  },
  "language_info": {
   "codemirror_mode": "java",
   "file_extension": ".jshell",
   "mimetype": "text/x-java-source",
   "name": "Java",
   "pygments_lexer": "java",
   "version": "20.0.2+9-78"
  },
  "orig_nbformat": 4
 },
 "nbformat": 4,
 "nbformat_minor": 2
}
